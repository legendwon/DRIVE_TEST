{
 "cells": [
  {
   "cell_type": "code",
   "execution_count": 4,
   "metadata": {},
   "outputs": [
    {
     "name": "stdout",
     "output_type": "stream",
     "text": [
      "ID\n",
      "['NAME', 'ID', 'PHONE', 'EMAIL']\n",
      "NAME\n",
      "ID\n",
      "PHONE\n",
      "EMAIL\n",
      "CHO\n",
      "20233103\n",
      "010-1234-5678\n",
      "CHO1234@gmail.com\n",
      "KIM\n",
      "20231111\n",
      "010-1212-1212\n",
      "KIM1234@gmil.com\n"
     ]
    }
   ],
   "source": [
    "import gspread\n",
    "\n",
    "# json 파일이 위치한 경로를 값으로 줘야 합니다.\n",
    "json_file_path = r\"C:\\Users\\won33\\Desktop\\CHO_TEST\\SHEET_API\\test-1-434206-6c192b145f78.json\"\n",
    "gc = gspread.service_account(json_file_path)\n",
    "spreadsheet_url = \"https://docs.google.com/spreadsheets/d/1S1yXz8d7ltAXrgnyyHPVu4NH-y62G6oMDsu1YtZ_iW0/edit?usp=sharing\"\n",
    "doc = gc.open_by_url(spreadsheet_url)\n",
    "\n",
    "\n",
    "worksheet = doc.worksheet(\"시트1\")\n",
    "# worksheet.update('a1','자동화 끝!')\n",
    "\n",
    "cell_data = worksheet.acell('B1').value\n",
    "print(cell_data)\n",
    "\n",
    "row_data = worksheet.row_values(1)\n",
    "print(row_data)\n",
    "\n",
    "range_list = worksheet.range('A1:D3')\n",
    "for cell in range_list:\n",
    "    print(cell.value)\n"
   ]
  },
  {
   "cell_type": "code",
   "execution_count": 2,
   "metadata": {},
   "outputs": [
    {
     "name": "stdout",
     "output_type": "stream",
     "text": [
      "NAME\n",
      "ID\n",
      "PHONE\n",
      "EMAIL\n",
      "CHO\n",
      "20233103\n",
      "010-1234-5678\n",
      "CHO1234@gmail.com\n",
      "KIM\n",
      "20231111\n",
      "010-1212-1212\n",
      "KIM1234@gmil.com\n"
     ]
    }
   ],
   "source": [
    "range_list = worksheet.range('A1:D3')\n",
    "for cell in range_list:\n",
    "    print(cell.value)\n"
   ]
  },
  {
   "cell_type": "code",
   "execution_count": 5,
   "metadata": {},
   "outputs": [],
   "source": [
    "values = worksheet.get_all_values()\n",
    "header, rows = values[0], values[1:]"
   ]
  },
  {
   "cell_type": "code",
   "execution_count": 6,
   "metadata": {},
   "outputs": [],
   "source": [
    "import pandas as pd\n",
    "df = pd.DataFrame(rows, columns=header)"
   ]
  },
  {
   "cell_type": "code",
   "execution_count": 7,
   "metadata": {},
   "outputs": [
    {
     "data": {
      "text/html": [
       "<div>\n",
       "<style scoped>\n",
       "    .dataframe tbody tr th:only-of-type {\n",
       "        vertical-align: middle;\n",
       "    }\n",
       "\n",
       "    .dataframe tbody tr th {\n",
       "        vertical-align: top;\n",
       "    }\n",
       "\n",
       "    .dataframe thead th {\n",
       "        text-align: right;\n",
       "    }\n",
       "</style>\n",
       "<table border=\"1\" class=\"dataframe\">\n",
       "  <thead>\n",
       "    <tr style=\"text-align: right;\">\n",
       "      <th></th>\n",
       "      <th>NAME</th>\n",
       "      <th>ID</th>\n",
       "      <th>PHONE</th>\n",
       "      <th>EMAIL</th>\n",
       "    </tr>\n",
       "  </thead>\n",
       "  <tbody>\n",
       "    <tr>\n",
       "      <th>0</th>\n",
       "      <td>CHO</td>\n",
       "      <td>20233103</td>\n",
       "      <td>010-1234-5678</td>\n",
       "      <td>CHO1234@gmail.com</td>\n",
       "    </tr>\n",
       "    <tr>\n",
       "      <th>1</th>\n",
       "      <td>KIM</td>\n",
       "      <td>20231111</td>\n",
       "      <td>010-1212-1212</td>\n",
       "      <td>KIM1234@gmil.com</td>\n",
       "    </tr>\n",
       "  </tbody>\n",
       "</table>\n",
       "</div>"
      ],
      "text/plain": [
       "  NAME        ID          PHONE              EMAIL\n",
       "0  CHO  20233103  010-1234-5678  CHO1234@gmail.com\n",
       "1  KIM  20231111  010-1212-1212   KIM1234@gmil.com"
      ]
     },
     "execution_count": 7,
     "metadata": {},
     "output_type": "execute_result"
    }
   ],
   "source": [
    "df"
   ]
  },
  {
   "cell_type": "code",
   "execution_count": null,
   "metadata": {},
   "outputs": [],
   "source": []
  }
 ],
 "metadata": {
  "kernelspec": {
   "display_name": "base",
   "language": "python",
   "name": "python3"
  },
  "language_info": {
   "codemirror_mode": {
    "name": "ipython",
    "version": 3
   },
   "file_extension": ".py",
   "mimetype": "text/x-python",
   "name": "python",
   "nbconvert_exporter": "python",
   "pygments_lexer": "ipython3",
   "version": "3.12.4"
  }
 },
 "nbformat": 4,
 "nbformat_minor": 2
}
